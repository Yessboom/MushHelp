{
 "cells": [
  {
   "cell_type": "code",
   "execution_count": 4,
   "id": "30dbc42a-72fe-48a9-b847-94af45ccacc9",
   "metadata": {},
   "outputs": [
    {
     "name": "stdout",
     "output_type": "stream",
     "text": [
      "Requirement already satisfied: pillow in c:\\users\\tangu\\appdata\\local\\programs\\python\\python310\\lib\\site-packages (9.3.0)\n",
      "Note: you may need to restart the kernel to use updated packages.\n"
     ]
    },
    {
     "name": "stderr",
     "output_type": "stream",
     "text": [
      "\n",
      "[notice] A new release of pip available: 22.3.1 -> 25.2\n",
      "[notice] To update, run: python.exe -m pip install --upgrade pip\n"
     ]
    }
   ],
   "source": [
    "pip install pillow"
   ]
  },
  {
   "cell_type": "code",
   "execution_count": null,
   "id": "15b00385-c134-48f9-a285-cd389a25da73",
   "metadata": {},
   "outputs": [],
   "source": [
    "from PIL import Image\n",
    "import json\n",
    "import sys\n",
    "import os\n",
    "\n",
    "def image_to_pixel_json(image_path, output_path=\"pixels.json\"):\n",
    "    print(\"Working\")\n",
    "    # Open image\n",
    "    img = Image.open(image_path).convert(\"RGBA\")\n",
    "    width, height = img.size\n",
    "\n",
    "    pixels_data = []\n",
    "\n",
    "    for y in range(height):\n",
    "        for x in range(width):\n",
    "            r, g, b, a = img.getpixel((x, y))\n",
    "            # Skip transparent pixels if you want\n",
    "            if a == 0:\n",
    "                continue\n",
    "            hex_color = \"#{:02x}{:02x}{:02x}\".format(r, g, b)\n",
    "            pixels_data.append({\n",
    "                \"x\": x,\n",
    "                \"y\": y,\n",
    "                \"color\": hex_color\n",
    "            })\n",
    "\n",
    "    # Save JSON\n",
    "    with open(output_path, \"w\") as f:\n",
    "        json.dump(pixels_data, f, indent=2)\n",
    "\n",
    "    print(f\"Pixel data saved to {output_path}\")\n",
    "\n",
    "image_to_pixel_json(\"public/images/FullShip.png\")"
   ]
  },
  {
   "cell_type": "code",
   "execution_count": null,
   "id": "2e2b67b1-254d-4d96-80b7-e33fd07f18b7",
   "metadata": {},
   "outputs": [],
   "source": []
  }
 ],
 "metadata": {
  "kernelspec": {
   "display_name": "Python 3 (ipykernel)",
   "language": "python",
   "name": "python3"
  },
  "language_info": {
   "codemirror_mode": {
    "name": "ipython",
    "version": 3
   },
   "file_extension": ".py",
   "mimetype": "text/x-python",
   "name": "python",
   "nbconvert_exporter": "python",
   "pygments_lexer": "ipython3",
   "version": "3.10.10"
  }
 },
 "nbformat": 4,
 "nbformat_minor": 5
}
